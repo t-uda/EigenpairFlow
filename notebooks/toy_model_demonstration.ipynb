{
 "cells": [
  {
   "cell_type": "markdown",
   "metadata": {},
   "source": [
    "# Toy Model Demonstration for Eigenpair Tracking\n",
    "\n",
    "This notebook demonstrates a common issue in tracking eigenvalues and eigenvectors for a one-parameter family of matrices $A(t)$. When eigenvalues are close or cross, a naive application of standard eigensolvers like `numpy.linalg.eigh` can lead to discontinuous eigenvectors. The `eigenpairflow` library is designed to handle this by tracking them continuously."
   ]
  },
  {
   "cell_type": "markdown",
   "metadata": {},
   "source": [
    "## 1. The Toy Model\n",
    "\n",
    "We define a matrix-valued function $A(t)$ by rotating a parameterized diagonal matrix $D(t)$.\n",
    "\n",
    "The rotation matrix is given by:\n",
    "$$ R(\\theta) = \\begin{pmatrix} \\cos \\theta & -\\sin \\theta \\\\ \\sin \\theta & \\cos \\theta \\end{pmatrix} $$\n",
    "\n",
    "The diagonal matrix is:\n",
    "$$ D(t) = \\begin{pmatrix} 1 & 0 \\\\ 0 & 1+t \\end{pmatrix} $$\n",
    "\n",
    "The full matrix function is:\n",
    "$$ A(t) = R(\\theta(t)) D(t) R(\\theta(t))^T $$\n",
    "\n",
    "We choose $\\theta(t) = \\frac{\\pi}{4}t$. The eigenvalues of $A(t)$ are simply the diagonal entries of $D(t)$, which are $\\lambda_1(t) = 1$ and $\\lambda_2(t) = 1+t$. The corresponding eigenvectors are the columns of $R(\\theta(t))$."
   ]
  },
  {
   "cell_type": "code",
   "metadata": {},
   "source": [
    "import numpy as np\n",
    "import matplotlib.pyplot as plt\n",
    "\n",
    "from eigenpairflow import eigenpairtrack"
   ]
  },
  {
   "cell_type": "code",
   "metadata": {},
   "source": [
    "# Define the toy model\n",
    "def R_func(theta):\n",
    "    c, s = np.cos(theta), np.sin(theta)\n",
    "    return np.array([[c, -s], [s, c]])\n",
    "\n",
    "def D_func(t):\n",
    "    return np.diag([1, 1 + t])\n",
    "\n",
    "def theta_func(t):\n",
    "    return np.pi / 4 * t\n",
    "\n",
    "def A_func(t):\n",
    "    theta = theta_func(t)\n",
    "    R = R_func(theta)\n",
    "    D = D_func(t)\n",
    "    return R @ D @ R.T\n",
    "\n",
    "def dtheta_func(t):\n",
    "    return np.pi / 4\n",
    "\n",
    "def dR_func(t):\n",
    "    theta = theta_func(t)\n",
    "    c, s = np.cos(theta), np.sin(theta)\n",
    "    return dtheta_func(t) * np.array([[-s, -c], [c, -s]])\n",
    "\n",
    "def dD_func(t):\n",
    "    return np.diag([0, 1])\n",
    "\n",
    "def dA_func(t):\n",
    "    R = R_func(theta_func(t))\n",
    "    D = D_func(t)\n",
    "    dR = dR_func(t)\n",
    "    dD = dD_func(t)\n",
    "    return dR @ D @ R.T + R @ dD @ R.T + R @ D @ dR.T"
   ]
  },
  {
   "cell_type": "markdown",
   "metadata": {},
   "source": [
    "## 2. Naive Eigenvector Calculation\n",
    "\n",
    "Here, we compute the eigenvectors at each point $t$ independently using `numpy.linalg.eigh`. As the plot will show, the eigenvectors can flip signs, leading to discontinuities."
   ]
  },
  {
   "cell_type": "code",
   "metadata": {},
   "source": [
    "t_space = np.linspace(0, 4, 200)\n",
    "naive_eigenvectors = []\n",
    "for t in t_space:\n",
    "    _, Q = np.linalg.eigh(A_func(t))\n",
    "    naive_eigenvectors.append(Q)\n",
    "\n",
    "naive_eigenvectors = np.array(naive_eigenvectors)\n",
    "\n",
    "plt.figure(figsize=(12, 6))\n",
    "plt.plot(t_space, naive_eigenvectors[:, 0, 0], label='v1[0] (naive)')\n",
    "plt.plot(t_space, naive_eigenvectors[:, 1, 0], label='v1[1] (naive)')\n",
    "plt.plot(t_space, naive_eigenvectors[:, 0, 1], '--', label='v2[0] (naive)')\n",
    "plt.plot(t_space, naive_eigenvectors[:, 1, 1], '--', label='v2[1] (naive)')\n",
    "plt.title('Naive Eigenvector Calculation (`eigh`)')\n",
    "plt.xlabel('t')\n",
    "plt.ylabel('Eigenvector Components')\n",
    "plt.legend()\n",
    "plt.grid(True)\n",
    "plt.show()"
   ]
  },
  {
   "cell_type": "markdown",
   "metadata": {},
   "source": [
    "## 3. Continuous Eigenvector Tracking with `eigenpairflow`\n",
    "\n",
    "Now we use `eigenpairflow` to track the eigenpairs. This method solves a system of ODEs to ensure the eigenvectors evolve continuously."
   ]
  },
  {
   "cell_type": "code",
   "metadata": {},
   "source": [
    "t_start, t_end = 0.0, 4.0\n",
    "t_eval = np.linspace(t_start, t_end, 200)\n",
    "\n",
    "results = eigenpairtrack(A_func, dA_func, (t_start, t_end), t_eval)\n",
    "\n",
    "if results.success:\n",
    "    tracked_eigenvectors = results.Qs\n",
    "    \n",
    "    plt.figure(figsize=(12, 6))\n",
    "    plt.plot(t_space, tracked_eigenvectors[:, 0, 0], label='v1[0] (tracked)')\n",
    "    plt.plot(t_space, tracked_eigenvectors[:, 1, 0], label='v1[1] (tracked)')\n",
    "    plt.plot(t_space, tracked_eigenvectors[:, 0, 1], '--', label='v2[0] (tracked)')\n",
    "    plt.plot(t_space, tracked_eigenvectors[:, 1, 1], '--', label='v2[1] (tracked)')\n",
    "    plt.title('Continuous Eigenvector Tracking (`eigenpairflow`)')\n",
    "    plt.xlabel('t')\n",
    "    plt.ylabel('Eigenvector Components')\n",
    "    plt.legend()\n",
    "    plt.grid(True)\n",
    "    plt.show()\n",
    "else:\n",
    "    print(\"Tracking failed.\")"
   ]
  }
 ],
 "metadata": {
  "kernelspec": {
   "display_name": "Python 3",
   "language": "python",
   "name": "python3"
  },
  "language_info": {
   "codemirror_mode": {
    "name": "ipython",
    "version": 3
   },
   "file_extension": ".py",
   "mimetype": "text/x-python",
   "name": "python",
   "nbconvert_exporter": "python",
   "pygments_lexer": "ipython3",
   "version": "3.12.11"
  }
 },
 "nbformat": 4,
 "nbformat_minor": 5
}
