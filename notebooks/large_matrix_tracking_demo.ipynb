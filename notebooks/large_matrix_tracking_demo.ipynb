{
 "cells": [
  {
   "cell_type": "markdown",
   "id": "6515577b",
   "metadata": {
    "papermill": {
     "duration": 0.003937,
     "end_time": "2025-09-08T12:06:24.877459",
     "exception": false,
     "start_time": "2025-09-08T12:06:24.873522",
     "status": "completed"
    },
    "tags": []
   },
   "source": [
    "# 高次元行列での固有対追跡デモンストレーション\n",
    "\n",
    "このノートブックでは、次元 20 の行列族に対して固有対追跡を行い、\n",
    "単純な並び替え補正と Ogita-Aishima 法の性能を比較します。"
   ]
  },
  {
   "cell_type": "code",
   "execution_count": 1,
   "id": "cf65d794",
   "metadata": {
    "execution": {
     "iopub.execute_input": "2025-09-08T12:06:24.884163Z",
     "iopub.status.busy": "2025-09-08T12:06:24.883831Z",
     "iopub.status.idle": "2025-09-08T12:06:26.144073Z",
     "shell.execute_reply": "2025-09-08T12:06:26.143099Z"
    },
    "papermill": {
     "duration": 1.265246,
     "end_time": "2025-09-08T12:06:26.145639",
     "exception": false,
     "start_time": "2025-09-08T12:06:24.880393",
     "status": "completed"
    },
    "tags": []
   },
   "outputs": [],
   "source": [
    "import numpy as np\n",
    "import matplotlib.pyplot as plt\n",
    "from time import time\n",
    "from eigenpairflow import eigenpairtrack\n",
    "from eigenpairflow.correction import ogita_aishima_refinement\n",
    "from eigenpairflow.ode import symmetric_ode_derivative\n"
   ]
  },
  {
   "cell_type": "markdown",
   "id": "ac1a0168",
   "metadata": {
    "papermill": {
     "duration": 0.002289,
     "end_time": "2025-09-08T12:06:26.150783",
     "exception": false,
     "start_time": "2025-09-08T12:06:26.148494",
     "status": "completed"
    },
    "tags": []
   },
   "source": [
    "## 問題設定\n",
    "\n",
    "2 つのランダムな対称行列 $A_0, A_1$ を線形補間して $A(t)$ を構成します。\n",
    "固有値は $t=0$ で昇順，$t=1$ で降順になっており，途中で複雑に交差します。"
   ]
  },
  {
   "cell_type": "code",
   "execution_count": 2,
   "id": "72e19265",
   "metadata": {
    "execution": {
     "iopub.execute_input": "2025-09-08T12:06:26.156665Z",
     "iopub.status.busy": "2025-09-08T12:06:26.156233Z",
     "iopub.status.idle": "2025-09-08T12:06:26.163969Z",
     "shell.execute_reply": "2025-09-08T12:06:26.163295Z"
    },
    "papermill": {
     "duration": 0.01207,
     "end_time": "2025-09-08T12:06:26.165030",
     "exception": false,
     "start_time": "2025-09-08T12:06:26.152960",
     "status": "completed"
    },
    "tags": []
   },
   "outputs": [],
   "source": [
    "n = 20\n",
    "np.random.seed(0)\n",
    "Q0, _ = np.linalg.qr(np.random.randn(n, n))\n",
    "Q1, _ = np.linalg.qr(np.random.randn(n, n))\n",
    "\n",
    "# 固有値を反転させて交差を作る\n",
    "eigvals0 = np.linspace(1, n, n)\n",
    "eigvals1 = eigvals0[::-1]\n",
    "\n",
    "A0 = Q0 @ np.diag(eigvals0) @ Q0.T\n",
    "A1 = Q1 @ np.diag(eigvals1) @ Q1.T\n",
    "\n",
    "def A_func(t):\n",
    "    \"\"\"補間された対称行列 A(t) を返す。\"\"\"\n",
    "    return (1 - t) * A0 + t * A1\n",
    "\n",
    "def dA_func(t):\n",
    "    \"\"\"A(t) の t に関する導関数を返す。\"\"\"\n",
    "    return A1 - A0\n",
    "\n",
    "t_eval = np.linspace(0, 1, 20)\n"
   ]
  },
  {
   "cell_type": "markdown",
   "id": "5293cf4d",
   "metadata": {
    "papermill": {
     "duration": 0.00203,
     "end_time": "2025-09-08T12:06:26.169620",
     "exception": false,
     "start_time": "2025-09-08T12:06:26.167590",
     "status": "completed"
    },
    "tags": []
   },
   "source": [
    "## 補正なしで追跡"
   ]
  },
  {
   "cell_type": "code",
   "execution_count": 3,
   "id": "3e602d19",
   "metadata": {
    "execution": {
     "iopub.execute_input": "2025-09-08T12:06:26.175038Z",
     "iopub.status.busy": "2025-09-08T12:06:26.174756Z",
     "iopub.status.idle": "2025-09-08T12:06:51.280568Z",
     "shell.execute_reply": "2025-09-08T12:06:51.279623Z"
    },
    "papermill": {
     "duration": 25.110324,
     "end_time": "2025-09-08T12:06:51.282010",
     "exception": false,
     "start_time": "2025-09-08T12:06:26.171686",
     "status": "completed"
    },
    "tags": []
   },
   "outputs": [],
   "source": [
    "start = time()\n",
    "results_none = eigenpairtrack(\n",
    "    A_func,\n",
    "    dA_func,\n",
    "    (0.0, 1.0),\n",
    "    t_eval,\n",
    "    correction_method=None,\n",
    ")\n",
    "elapsed_none = time() - start\n"
   ]
  },
  {
   "cell_type": "markdown",
   "id": "f05c58e8",
   "metadata": {
    "papermill": {
     "duration": 0.002195,
     "end_time": "2025-09-08T12:06:51.286979",
     "exception": false,
     "start_time": "2025-09-08T12:06:51.284784",
     "status": "completed"
    },
    "tags": []
   },
   "source": [
    "## 並び替えマッチング補正"
   ]
  },
  {
   "cell_type": "code",
   "execution_count": 4,
   "id": "03fd4f1f",
   "metadata": {
    "execution": {
     "iopub.execute_input": "2025-09-08T12:06:51.292097Z",
     "iopub.status.busy": "2025-09-08T12:06:51.291849Z",
     "iopub.status.idle": "2025-09-08T12:07:14.312656Z",
     "shell.execute_reply": "2025-09-08T12:07:14.311530Z"
    },
    "papermill": {
     "duration": 23.024994,
     "end_time": "2025-09-08T12:07:14.314023",
     "exception": false,
     "start_time": "2025-09-08T12:06:51.289029",
     "status": "completed"
    },
    "tags": []
   },
   "outputs": [],
   "source": [
    "start = time()\n",
    "results_match = eigenpairtrack(\n",
    "    A_func,\n",
    "    dA_func,\n",
    "    (0.0, 1.0),\n",
    "    t_eval,\n",
    "    correction_method=\"matching\",\n",
    ")\n",
    "elapsed_match = time() - start\n"
   ]
  },
  {
   "cell_type": "markdown",
   "id": "d9701734",
   "metadata": {
    "papermill": {
     "duration": 0.002795,
     "end_time": "2025-09-08T12:07:14.320489",
     "exception": false,
     "start_time": "2025-09-08T12:07:14.317694",
     "status": "completed"
    },
    "tags": []
   },
   "source": [
    "## Ogita-Aishima 補正"
   ]
  },
  {
   "cell_type": "code",
   "execution_count": 5,
   "id": "5af53cde",
   "metadata": {
    "execution": {
     "iopub.execute_input": "2025-09-08T12:07:14.327014Z",
     "iopub.status.busy": "2025-09-08T12:07:14.326706Z",
     "iopub.status.idle": "2025-09-08T12:07:38.701837Z",
     "shell.execute_reply": "2025-09-08T12:07:38.700869Z"
    },
    "papermill": {
     "duration": 24.38027,
     "end_time": "2025-09-08T12:07:38.703435",
     "exception": false,
     "start_time": "2025-09-08T12:07:14.323165",
     "status": "completed"
    },
    "tags": []
   },
   "outputs": [],
   "source": [
    "start = time()\n",
    "results_ogita = eigenpairtrack(\n",
    "    A_func,\n",
    "    dA_func,\n",
    "    (0.0, 1.0),\n",
    "    t_eval,\n",
    "    correction_method=\"ogita_aishima\",\n",
    ")\n",
    "elapsed_ogita = time() - start\n"
   ]
  },
  {
   "cell_type": "markdown",
   "id": "8ae5c781",
   "metadata": {
    "papermill": {
     "duration": 0.002435,
     "end_time": "2025-09-08T12:07:38.708619",
     "exception": false,
     "start_time": "2025-09-08T12:07:38.706184",
     "status": "completed"
    },
    "tags": []
   },
   "source": [
    "start = time()\n",
    "\n",
    "def track_with_ogita_only(A_func, dA_func, t_eval):\n",
    "    \"\"\"前進 Euler 法で初期近似を求めた後、荻田-青島法のみで固有対を追跡する。\"\"\"\n",
    "    Qs = []\n",
    "    Ds = []\n",
    "    t_prev = t_eval[0]\n",
    "    A_prev = A_func(t_prev)\n",
    "    eigvals0, Q0 = np.linalg.eigh(A_prev)\n",
    "    idx = np.argsort(eigvals0)\n",
    "    Q_prev = Q0[:, idx]\n",
    "    D_prev = np.diag(eigvals0[idx])\n",
    "    Qs.append(Q_prev)\n",
    "    Ds.append(D_prev)\n",
    "    n = A_prev.shape[0]\n",
    "    y_prev = np.concatenate([Q_prev.flatten(), np.diag(D_prev)])\n",
    "    for t in t_eval[1:]:\n",
    "        dt = t - t_prev\n",
    "        if np.all(np.isfinite(y_prev)):\n",
    "            try:\n",
    "                dydt = symmetric_ode_derivative(t_prev, y_prev, n, dA_func)\n",
    "                y_pred = y_prev + dt * dydt\n",
    "                Q_hat = y_pred[: n * n].reshape((n, n))\n",
    "            except Exception:\n",
    "                Q_hat = Q_prev\n",
    "        else:\n",
    "            Q_hat = Q_prev\n",
    "        if not np.all(np.isfinite(Q_hat)):\n",
    "            Q_hat = Q_prev\n",
    "        A_t = A_func(t)\n",
    "        Q_prev, D_prev = ogita_aishima_refinement(A_t, Q_hat)\n",
    "        Qs.append(Q_prev)\n",
    "        Ds.append(D_prev)\n",
    "        t_prev = t\n",
    "        y_prev = np.concatenate([Q_prev.flatten(), np.diag(D_prev)])\n",
    "    return Qs, Ds\n",
    "\n",
    "Qs_ogita_only, Ds_ogita_only = track_with_ogita_only(A_func, dA_func, t_eval)\n",
    "elapsed_ogita_only = time() - start\n"
   ]
  },
  {
   "cell_type": "code",
   "execution_count": 6,
   "id": "748f28a6",
   "metadata": {
    "execution": {
     "iopub.execute_input": "2025-09-08T12:07:38.714302Z",
     "iopub.status.busy": "2025-09-08T12:07:38.714039Z",
     "iopub.status.idle": "2025-09-08T12:07:38.829862Z",
     "shell.execute_reply": "2025-09-08T12:07:38.829125Z"
    },
    "papermill": {
     "duration": 0.120584,
     "end_time": "2025-09-08T12:07:38.831416",
     "exception": false,
     "start_time": "2025-09-08T12:07:38.710832",
     "status": "completed"
    },
    "tags": []
   },
   "outputs": [],
   "source": [
    "start = time()\n",
    "\n",
    "def track_with_ogita_only(A_func, dA_func, t_eval):\n",
    "    \"\"\"前進 Euler 法で初期近似を求めた後、荻田-青島法のみで固有対を追跡する。\"\"\"\n",
    "    Qs = []\n",
    "    Ds = []\n",
    "    t_prev = t_eval[0]\n",
    "    A_prev = A_func(t_prev)\n",
    "    eigvals0, Q0 = np.linalg.eigh(A_prev)\n",
    "    idx = np.argsort(eigvals0)\n",
    "    Q_prev = Q0[:, idx]\n",
    "    D_prev = np.diag(eigvals0[idx])\n",
    "    Qs.append(Q_prev)\n",
    "    Ds.append(D_prev)\n",
    "    n = A_prev.shape[0]\n",
    "    y_prev = np.concatenate([Q_prev.flatten(), np.diag(D_prev)])\n",
    "    for t in t_eval[1:]:\n",
    "        dt = t - t_prev\n",
    "        if np.all(np.isfinite(y_prev)):\n",
    "            try:\n",
    "                dydt = symmetric_ode_derivative(t_prev, y_prev, n, dA_func)\n",
    "                y_pred = y_prev + dt * dydt\n",
    "                Q_hat = y_pred[: n * n].reshape((n, n))\n",
    "            except Exception:\n",
    "                Q_hat = Q_prev\n",
    "        else:\n",
    "            Q_hat = Q_prev\n",
    "        if not np.all(np.isfinite(Q_hat)):\n",
    "            Q_hat = Q_prev\n",
    "        A_t = A_func(t)\n",
    "        Q_prev, D_prev = ogita_aishima_refinement(A_t, Q_hat)\n",
    "        Qs.append(Q_prev)\n",
    "        Ds.append(D_prev)\n",
    "        t_prev = t\n",
    "        y_prev = np.concatenate([Q_prev.flatten(), np.diag(D_prev)])\n",
    "    return Qs, Ds\n",
    "\n",
    "Qs_ogita_only, Ds_ogita_only = track_with_ogita_only(A_func, dA_func, t_eval)\n",
    "elapsed_ogita_only = time() - start\n"
   ]
  },
  {
   "cell_type": "markdown",
   "id": "baa2ea2e",
   "metadata": {
    "papermill": {
     "duration": 0.002391,
     "end_time": "2025-09-08T12:07:38.836502",
     "exception": false,
     "start_time": "2025-09-08T12:07:38.834111",
     "status": "completed"
    },
    "tags": []
   },
   "source": [
    "## 誤差と計算時間の比較"
   ]
  },
  {
   "cell_type": "code",
   "execution_count": 7,
   "id": "524e65ad",
   "metadata": {
    "execution": {
     "iopub.execute_input": "2025-09-08T12:07:38.842225Z",
     "iopub.status.busy": "2025-09-08T12:07:38.841963Z",
     "iopub.status.idle": "2025-09-08T12:07:39.304969Z",
     "shell.execute_reply": "2025-09-08T12:07:39.303902Z"
    },
    "papermill": {
     "duration": 0.467332,
     "end_time": "2025-09-08T12:07:39.306232",
     "exception": false,
     "start_time": "2025-09-08T12:07:38.838900",
     "status": "completed"
    },
    "tags": []
   },
   "outputs": [
    {
     "name": "stdout",
     "output_type": "stream",
     "text": [
      "補正なし: 25.10s, 最終誤差 8.97e-11\n",
      "並び替えマッチング: 23.02s, 最終誤差 1.31e-13\n",
      "Ogita-Aishima: 24.37s, 最終誤差 5.54e-14\n",
      "Ogitaのみ: 0.11s, 最終誤差 6.68e-14\n"
     ]
    },
    {
     "name": "stderr",
     "output_type": "stream",
     "text": [
      "/root/.pyenv/versions/3.11.12/lib/python3.11/site-packages/IPython/core/pylabtools.py:152: UserWarning: Glyph 35036 (\\N{CJK UNIFIED IDEOGRAPH-88DC}) missing from font(s) DejaVu Sans.\n",
      "  fig.canvas.print_figure(bytes_io, **kw)\n",
      "/root/.pyenv/versions/3.11.12/lib/python3.11/site-packages/IPython/core/pylabtools.py:152: UserWarning: Glyph 27491 (\\N{CJK UNIFIED IDEOGRAPH-6B63}) missing from font(s) DejaVu Sans.\n",
      "  fig.canvas.print_figure(bytes_io, **kw)\n",
      "/root/.pyenv/versions/3.11.12/lib/python3.11/site-packages/IPython/core/pylabtools.py:152: UserWarning: Glyph 12394 (\\N{HIRAGANA LETTER NA}) missing from font(s) DejaVu Sans.\n",
      "  fig.canvas.print_figure(bytes_io, **kw)\n",
      "/root/.pyenv/versions/3.11.12/lib/python3.11/site-packages/IPython/core/pylabtools.py:152: UserWarning: Glyph 12375 (\\N{HIRAGANA LETTER SI}) missing from font(s) DejaVu Sans.\n",
      "  fig.canvas.print_figure(bytes_io, **kw)\n",
      "/root/.pyenv/versions/3.11.12/lib/python3.11/site-packages/IPython/core/pylabtools.py:152: UserWarning: Glyph 12510 (\\N{KATAKANA LETTER MA}) missing from font(s) DejaVu Sans.\n",
      "  fig.canvas.print_figure(bytes_io, **kw)\n",
      "/root/.pyenv/versions/3.11.12/lib/python3.11/site-packages/IPython/core/pylabtools.py:152: UserWarning: Glyph 12483 (\\N{KATAKANA LETTER SMALL TU}) missing from font(s) DejaVu Sans.\n",
      "  fig.canvas.print_figure(bytes_io, **kw)\n",
      "/root/.pyenv/versions/3.11.12/lib/python3.11/site-packages/IPython/core/pylabtools.py:152: UserWarning: Glyph 12481 (\\N{KATAKANA LETTER TI}) missing from font(s) DejaVu Sans.\n",
      "  fig.canvas.print_figure(bytes_io, **kw)\n",
      "/root/.pyenv/versions/3.11.12/lib/python3.11/site-packages/IPython/core/pylabtools.py:152: UserWarning: Glyph 12531 (\\N{KATAKANA LETTER N}) missing from font(s) DejaVu Sans.\n",
      "  fig.canvas.print_figure(bytes_io, **kw)\n",
      "/root/.pyenv/versions/3.11.12/lib/python3.11/site-packages/IPython/core/pylabtools.py:152: UserWarning: Glyph 12464 (\\N{KATAKANA LETTER GU}) missing from font(s) DejaVu Sans.\n",
      "  fig.canvas.print_figure(bytes_io, **kw)\n",
      "/root/.pyenv/versions/3.11.12/lib/python3.11/site-packages/IPython/core/pylabtools.py:152: UserWarning: Glyph 12398 (\\N{HIRAGANA LETTER NO}) missing from font(s) DejaVu Sans.\n",
      "  fig.canvas.print_figure(bytes_io, **kw)\n",
      "/root/.pyenv/versions/3.11.12/lib/python3.11/site-packages/IPython/core/pylabtools.py:152: UserWarning: Glyph 12415 (\\N{HIRAGANA LETTER MI}) missing from font(s) DejaVu Sans.\n",
      "  fig.canvas.print_figure(bytes_io, **kw)\n"
     ]
    },
    {
     "data": {
      "image/png": "[encoded data removed]",
      "text/plain": [
       "<Figure size 1000x600 with 1 Axes>"
      ]
     },
     "metadata": {},
     "output_type": "display_data"
    }
   ],
   "source": [
    "norm_errors_ogita_only = []\n",
    "for t, Q, D in zip(t_eval, Qs_ogita_only, Ds_ogita_only):\n",
    "    A_t = A_func(t)\n",
    "    norm_errors_ogita_only.append(np.linalg.norm(A_t - Q @ D @ Q.T, 'fro'))\n",
    "\n",
    "print(f\"補正なし: {elapsed_none:.2f}s, 最終誤差 {results_none.norm_errors[-1]:.2e}\")\n",
    "print(f\"並び替えマッチング: {elapsed_match:.2f}s, 最終誤差 {results_match.norm_errors[-1]:.2e}\")\n",
    "print(f\"Ogita-Aishima: {elapsed_ogita:.2f}s, 最終誤差 {results_ogita.norm_errors[-1]:.2e}\")\n",
    "print(f\"Ogitaのみ: {elapsed_ogita_only:.2f}s, 最終誤差 {norm_errors_ogita_only[-1]:.2e}\")\n",
    "\n",
    "plt.figure(figsize=(10,6))\n",
    "plt.plot(results_none.t_eval, results_none.norm_errors, label=\"補正なし\")\n",
    "plt.plot(results_match.t_eval, results_match.norm_errors, label=\"マッチング\")\n",
    "plt.plot(results_ogita.t_eval, results_ogita.norm_errors, label=\"Ogita-Aishima\")\n",
    "plt.plot(t_eval, norm_errors_ogita_only, label=\"Ogitaのみ\")\n",
    "plt.yscale(\"log\")\n",
    "plt.xlabel(\"t\")\n",
    "plt.ylabel(r\"$\\|A(t) - Q(t)D(t)Q(t)^T\\|_F$\")\n",
    "plt.legend()\n",
    "plt.show()\n"
   ]
  }
 ],
 "metadata": {
  "kernelspec": {
   "display_name": "Python 3",
   "language": "python",
   "name": "python3"
  },
  "language_info": {
   "codemirror_mode": {
    "name": "ipython",
    "version": 3
   },
   "file_extension": ".py",
   "mimetype": "text/x-python",
   "name": "python",
   "nbconvert_exporter": "python",
   "pygments_lexer": "ipython3",
   "version": "3.11.12"
  },
  "papermill": {
   "default_parameters": {},
   "duration": 75.973715,
   "end_time": "2025-09-08T12:07:39.729899",
   "environment_variables": {},
   "exception": null,
   "input_path": "notebooks/large_matrix_tracking_demo.ipynb",
   "output_path": "notebooks/large_matrix_tracking_demo.ipynb",
   "parameters": {},
   "start_time": "2025-09-08T12:06:23.756184",
   "version": "2.6.0"
  }
 },
 "nbformat": 4,
 "nbformat_minor": 5
}