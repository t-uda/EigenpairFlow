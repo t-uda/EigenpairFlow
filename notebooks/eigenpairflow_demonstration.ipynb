{
 "cells": [
  {
   "cell_type": "markdown",
   "metadata": {},
   "source": [
    "# Eigenpair Flow Demonstration\n",
    "\n",
    "This notebook demonstrates the use of the `eigenpairflow` library to track the eigenvalues and eigenvectors of a one-parameter family of symmetric matrices $A(t)$.\n",
    "\n",
    "## Mathematical Background\n",
    "\n",
    "Given a one-parameter family of symmetric matrices $A(t)$, we consider its eigenvalue decomposition:\n",
    "$$ A(t) = Q(t) \\Lambda(t) Q(t)^T $$\n",
    "where $Q(t)$ is an orthogonal matrix of eigenvectors and $\\Lambda(t)$ is a diagonal matrix of eigenvalues.\n",
    "\n",
    "By differentiating the equation $A(t)Q(t) = Q(t)\\Lambda(t)$, we can derive a system of ordinary differential equations (ODEs) for $Q(t)$ and $\\Lambda(t)$. The core equation for the derivatives is:\n",
    "$$ F(t) = \\frac{d\\Lambda}{dt} + [H(t), \\Lambda(t)] $$\n",
    "where $F(t) = Q(t)^T \\frac{dA}{dt} Q(t)$ and $H(t) = Q(t)^T \\frac{dQ}{dt}$ is a skew-symmetric matrix.\n",
    "\n",
    "The `eigenpairflow` library solves this system of ODEs to track the continuous evolution of eigenvalues and eigenvectors."
   ]
  },
  {
   "cell_type": "code",
   "execution_count": null,
   "metadata": {},
   "outputs": [],
   "source": [
    "import numpy as np\n",
    "import networkx as nx\n",
    "import matplotlib.pyplot as plt\n",
    "from eigenpairflow.main import track_and_analyze_eigenvalue_decomposition, create_n_partite_graph\n",
    "from eigenpairflow.visualization import plot_eigen_tracking_results, plot_eigenvalue_trajectories, plot_reconstruction_error, plot_magnitudes"
   ]
  },
  {
   "cell_type": "code",
   "execution_count": null,
   "metadata": {},
   "outputs": [],
   "source": [
    "# --- Problem Setup: Create an n-partite graph ---\n",
    "partition_sizes = [3, 2, 1, 1, 4, 2]\n",
    "lengths = {\n",
    "    (0, 1): 3.0,\n",
    "    (1, 2): 1.5,\n",
    "    (2, 3): 0.1,\n",
    "    (3, 4): 1.0,\n",
    "    (4, 5): 3.5\n",
    "}\n",
    "\n",
    "G = create_n_partite_graph(partition_sizes, lengths)\n",
    "\n",
    "# --- Visualize the graph distance matrix and the graph initially ---\n",
    "D = np.array(nx.floyd_warshall_numpy(G, weight='length'))\n",
    "fig, axes = plt.subplots(1, 2, figsize=(12, 6))\n",
    "cmap = plt.cm.viridis\n",
    "\n",
    "im = axes[0].matshow(D, cmap=cmap)\n",
    "axes[0].set_title(\"N-partite Graph Distance Matrix\")\n",
    "fig.colorbar(im, ax=axes[0], label='Distance')\n",
    "\n",
    "pos = nx.spring_layout(G, seed=42)\n",
    "node_colors = ['black'] * len(G.nodes())\n",
    "edge_lengths_list = [G[u][v]['length'] for u, v in G.edges()]\n",
    "\n",
    "nx.draw(G, pos, with_labels=True, node_color=node_colors, edge_color=edge_lengths_list,\n",
    "        width=2.0, edge_cmap=cmap, ax=axes[1])\n",
    "axes[1].set_title(\"N-partite Graph Visualization\")\n",
    "sm = plt.cm.ScalarMappable(cmap=cmap,\n",
    "                           norm=plt.Normalize(vmin=min(edge_lengths_list), vmax=max(edge_lengths_list)))\n",
    "sm.set_array([])\n",
    "cbar = fig.colorbar(sm, ax=axes[1], label='Edge length')\n",
    "\n",
    "plt.tight_layout()\n",
    "plt.show()"
   ]
  },
  {
   "cell_type": "code",
   "execution_count": null,
   "metadata": {},
   "outputs": [],
   "source": [
    "# --- Run Analysis and Plot Results ---\n",
    "print(\"\\n--- Starting tracking and analysis WITH correction ---\")\n",
    "results_corrected = track_and_analyze_eigenvalue_decomposition(G, apply_correction=True)\n",
    "\n",
    "if results_corrected.success:\n",
    "    print(\"Tracking and analysis with correction finished successfully.\")\n",
    "    print(\"Plotting results with correction...\")\n",
    "    plot_eigen_tracking_results(results_corrected)\n",
    "else:\n",
    "    print(f\"Tracking and analysis with correction failed: {results_corrected.message}\")\n",
    "\n",
    "print(\"\\n--- Starting tracking and analysis WITHOUT correction ---\")\n",
    "results_original = track_and_analyze_eigenvalue_decomposition(G, apply_correction=False)\n",
    "\n",
    "if results_original.success:\n",
    "    print(\"Tracking and analysis without correction finished successfully.\")\n",
    "    print(\"Plotting results without correction...\")\n",
    "    plot_eigen_tracking_results(results_original)\n",
    "else:\n",
    "    print(f\"Tracking and analysis without correction failed: {results_original.message}\")"
   ]
  }
 ],
 "metadata": {
  "kernelspec": {
   "display_name": "Python 3",
   "name": "python3"
  }
 },
 "nbformat": 4,
 "nbformat_minor": 0
}
