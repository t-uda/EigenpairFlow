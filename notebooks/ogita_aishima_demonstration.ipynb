{
 "cells": [
  {
   "cell_type": "markdown",
   "metadata": {},
   "source": [
    "# Ogita-Aishima Refinement Method Demonstration\n",
    "\n",
    "This notebook demonstrates the effect of the Ogita-Aishima (OA) iterative refinement method for correcting the trajectory of eigenpairs. We will compare it with the standard matching correction."
   ]
  },
  {
   "cell_type": "code",
   "execution_count": null,
   "metadata": {},
   "outputs": [],
   "source": [
    "import numpy as np\n",
    "import matplotlib.pyplot as plt\n",
    "from eigenpairflow import eigenpairtrack"
   ]
  },
  {
   "cell_type": "markdown",
   "metadata": {},
   "source": [
    "## Problem Setup\n",
    "\n",
    "We will set up a problem with clustered eigenvalues to highlight the strength of the Ogita-Aishima method."
   ]
  },
  {
   "cell_type": "code",
   "execution_count": null,
   "metadata": {},
   "outputs": [],
   "source": [
    "n = 5\n",
    "D_diag = np.array([1.0, 1.0 + 1e-6, 3.0, 4.0, 5.0])\n",
    "A_base = np.diag(D_diag)\n",
    "\n",
    "# A time-dependent perturbation\n",
    "np.random.seed(42) # for reproducibility\n",
    "P = np.random.rand(n, n)\n",
    "P = (P + P.T) / 2\n",
    "\n",
    "def A_func(t):\n",
    "    return A_base + t * P\n",
    "\n",
    "def dA_func(t):\n",
    "    return P\n",
    "\n",
    "t_start, t_end = 0.0, 0.1\n",
    "t_eval = np.linspace(t_start, t_end, 100)"
   ]
  },
  {
   "cell_type": "markdown",
   "metadata": {},
   "source": [
    "## Run Tracking with Standard Matching Correction"
   ]
  },
  {
   "cell_type": "code",
   "execution_count": null,
   "metadata": {},
   "outputs": [],
   "source": [
    "results_matching = eigenpairtrack(\n",
    "    A_func,\n",
    "    dA_func,\n",
    "    (t_start, t_end),\n",
    "    t_eval,\n",
    "    correction_method='matching'\n",
    ")"
   ]
  },
  {
   "cell_type": "markdown",
   "metadata": {},
   "source": [
    "## Run Tracking with Ogita-Aishima Correction"
   ]
  },
  {
   "cell_type": "code",
   "execution_count": null,
   "metadata": {},
   "outputs": [],
   "source": [
    "results_oa = eigenpairtrack(\n",
    "    A_func,\n",
    "    dA_func,\n",
    "    (t_start, t_end),\n",
    "    t_eval,\n",
    "    correction_method='ogita_aishima'\n",
    ")"
   ]
  },
  {
   "cell_type": "markdown",
   "metadata": {},
   "source": [
    "## Compare Norm Errors\n",
    "\n",
    "We plot the Frobenius norm of the error `||A(t) - Q(t)D(t)Q(t)^T||` for both methods. A smaller error indicates a more accurate decomposition."
   ]
  },
  {
   "cell_type": "code",
   "execution_count": null,
   "metadata": {},
   "outputs": [],
   "source": [
    "plt.figure(figsize=(12, 7))\n",
    "plt.plot(results_matching.t_eval, results_matching.norm_errors, label='Matching Correction', marker='o', linestyle='--')\n",
    "plt.plot(results_oa.t_eval, results_oa.norm_errors, label='Ogita-Aishima Correction', marker='x', linestyle='-')\n",
    "plt.yscale('log')\n",
    "plt.xlabel('Time (t)')\n",
    "plt.ylabel('Norm Error (log scale)')\n",
    "plt.title('Comparison of Correction Methods for a Matrix with Clustered Eigenvalues')\n",
    "plt.legend()\n",
    "plt.grid(True, which=\"both\", linestyle='--')\n",
    "plt.show()"
   ]
  }
 ],
 "metadata": {
  "kernelspec": {
   "display_name": "Python 3",
   "language": "python",
   "name": "python3"
  },
  "language_info": {
   "codemirror_mode": {
    "name": "ipython",
    "version": 3
   },
   "file_extension": ".py",
   "mimetype": "text/x-python",
   "name": "python",
   "nbconvert_exporter": "python",
   "pygments_lexer": "ipython3",
   "version": "3.12.11"
  }
 },
 "nbformat": 4,
 "nbformat_minor": 2
}
