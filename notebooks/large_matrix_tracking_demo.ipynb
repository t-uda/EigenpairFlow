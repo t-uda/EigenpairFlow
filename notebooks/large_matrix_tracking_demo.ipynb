{
 "cells": [
  {
   "cell_type": "markdown",
   "id": "6515577b",
   "metadata": {
    "papermill": {
     "duration": 0.0031,
     "end_time": "2025-09-07T15:10:11.348113",
     "exception": false,
     "start_time": "2025-09-07T15:10:11.345013",
     "status": "completed"
    },
    "tags": []
   },
   "source": [
    "# 高次元行列での固有対追跡デモンストレーション\n",
    "\n",
    "このノートブックでは、次元 20 の行列族に対して固有対追跡を行い、\n",
    "単純な並び替え補正と Ogita-Aishima 法の性能を比較します。"
   ]
  },
  {
   "cell_type": "code",
   "execution_count": 1,
   "id": "cf65d794",
   "metadata": {
    "execution": {
     "iopub.execute_input": "2025-09-07T15:10:11.354045Z",
     "iopub.status.busy": "2025-09-07T15:10:11.353723Z",
     "iopub.status.idle": "2025-09-07T15:10:12.550531Z",
     "shell.execute_reply": "2025-09-07T15:10:12.549764Z"
    },
    "papermill": {
     "duration": 1.201479,
     "end_time": "2025-09-07T15:10:12.552187",
     "exception": false,
     "start_time": "2025-09-07T15:10:11.350708",
     "status": "completed"
    },
    "tags": []
   },
   "outputs": [],
   "source": [
    "import numpy as np\n",
    "import matplotlib.pyplot as plt\n",
    "from time import time\n",
    "from eigenpairflow import eigenpairtrack\n",
    "from eigenpairflow.correction import ogita_aishima_refinement"
   ]
  },
  {
   "cell_type": "markdown",
   "id": "ac1a0168",
   "metadata": {
    "papermill": {
     "duration": 0.002452,
     "end_time": "2025-09-07T15:10:12.557450",
     "exception": false,
     "start_time": "2025-09-07T15:10:12.554998",
     "status": "completed"
    },
    "tags": []
   },
   "source": [
    "## 問題設定\n",
    "\n",
    "2 つのランダムな対称行列 $A_0, A_1$ を線形補間して $A(t)$ を構成します。\n",
    "固有値は $t=0$ で昇順，$t=1$ で降順になっており，途中で複雑に交差します。"
   ]
  },
  {
   "cell_type": "code",
   "execution_count": 2,
   "id": "72e19265",
   "metadata": {
    "execution": {
     "iopub.execute_input": "2025-09-07T15:10:12.563101Z",
     "iopub.status.busy": "2025-09-07T15:10:12.562737Z",
     "iopub.status.idle": "2025-09-07T15:10:12.569730Z",
     "shell.execute_reply": "2025-09-07T15:10:12.569047Z"
    },
    "papermill": {
     "duration": 0.011202,
     "end_time": "2025-09-07T15:10:12.570857",
     "exception": false,
     "start_time": "2025-09-07T15:10:12.559655",
     "status": "completed"
    },
    "tags": []
   },
   "outputs": [],
   "source": [
    "n = 20\n",
    "np.random.seed(0)\n",
    "Q0, _ = np.linalg.qr(np.random.randn(n, n))\n",
    "Q1, _ = np.linalg.qr(np.random.randn(n, n))\n",
    "\n",
    "# 固有値を反転させて交差を作る\n",
    "eigvals0 = np.linspace(1, n, n)\n",
    "eigvals1 = eigvals0[::-1]\n",
    "\n",
    "A0 = Q0 @ np.diag(eigvals0) @ Q0.T\n",
    "A1 = Q1 @ np.diag(eigvals1) @ Q1.T\n",
    "\n",
    "def A_func(t):\n",
    "    \"\"\"補間された対称行列 A(t) を返す。\"\"\"\n",
    "    return (1 - t) * A0 + t * A1\n",
    "\n",
    "def dA_func(t):\n",
    "    \"\"\"A(t) の t に関する導関数を返す。\"\"\"\n",
    "    return A1 - A0\n",
    "\n",
    "t_eval = np.linspace(0, 1, 20)\n"
   ]
  },
  {
   "cell_type": "markdown",
   "id": "5293cf4d",
   "metadata": {
    "papermill": {
     "duration": 0.001899,
     "end_time": "2025-09-07T15:10:12.574723",
     "exception": false,
     "start_time": "2025-09-07T15:10:12.572824",
     "status": "completed"
    },
    "tags": []
   },
   "source": [
    "## 補正なしで追跡"
   ]
  },
  {
   "cell_type": "code",
   "execution_count": 3,
   "id": "3e602d19",
   "metadata": {
    "execution": {
     "iopub.execute_input": "2025-09-07T15:10:12.579659Z",
     "iopub.status.busy": "2025-09-07T15:10:12.579434Z",
     "iopub.status.idle": "2025-09-07T15:10:33.106818Z",
     "shell.execute_reply": "2025-09-07T15:10:33.105984Z"
    },
    "papermill": {
     "duration": 20.531337,
     "end_time": "2025-09-07T15:10:33.108077",
     "exception": false,
     "start_time": "2025-09-07T15:10:12.576740",
     "status": "completed"
    },
    "tags": []
   },
   "outputs": [],
   "source": [
    "start = time()\n",
    "results_none = eigenpairtrack(\n",
    "    A_func,\n",
    "    dA_func,\n",
    "    (0.0, 1.0),\n",
    "    t_eval,\n",
    "    correction_method=None,\n",
    ")\n",
    "elapsed_none = time() - start\n"
   ]
  },
  {
   "cell_type": "markdown",
   "id": "f05c58e8",
   "metadata": {
    "papermill": {
     "duration": 0.002212,
     "end_time": "2025-09-07T15:10:33.115578",
     "exception": false,
     "start_time": "2025-09-07T15:10:33.113366",
     "status": "completed"
    },
    "tags": []
   },
   "source": [
    "## 並び替えマッチング補正"
   ]
  },
  {
   "cell_type": "code",
   "execution_count": 4,
   "id": "03fd4f1f",
   "metadata": {
    "execution": {
     "iopub.execute_input": "2025-09-07T15:10:33.126823Z",
     "iopub.status.busy": "2025-09-07T15:10:33.125772Z",
     "iopub.status.idle": "2025-09-07T15:10:53.595780Z",
     "shell.execute_reply": "2025-09-07T15:10:53.595031Z"
    },
    "papermill": {
     "duration": 20.479148,
     "end_time": "2025-09-07T15:10:53.596892",
     "exception": false,
     "start_time": "2025-09-07T15:10:33.117744",
     "status": "completed"
    },
    "tags": []
   },
   "outputs": [],
   "source": [
    "start = time()\n",
    "results_match = eigenpairtrack(\n",
    "    A_func,\n",
    "    dA_func,\n",
    "    (0.0, 1.0),\n",
    "    t_eval,\n",
    "    correction_method=\"matching\",\n",
    ")\n",
    "elapsed_match = time() - start\n"
   ]
  },
  {
   "cell_type": "markdown",
   "id": "d9701734",
   "metadata": {
    "papermill": {
     "duration": 0.002146,
     "end_time": "2025-09-07T15:10:53.603612",
     "exception": false,
     "start_time": "2025-09-07T15:10:53.601466",
     "status": "completed"
    },
    "tags": []
   },
   "source": [
    "## Ogita-Aishima 補正"
   ]
  },
  {
   "cell_type": "code",
   "execution_count": 5,
   "id": "5af53cde",
   "metadata": {
    "execution": {
     "iopub.execute_input": "2025-09-07T15:10:53.608747Z",
     "iopub.status.busy": "2025-09-07T15:10:53.608510Z",
     "iopub.status.idle": "2025-09-07T15:11:16.034294Z",
     "shell.execute_reply": "2025-09-07T15:11:16.033548Z"
    },
    "papermill": {
     "duration": 22.430168,
     "end_time": "2025-09-07T15:11:16.035737",
     "exception": false,
     "start_time": "2025-09-07T15:10:53.605569",
     "status": "completed"
    },
    "tags": []
   },
   "outputs": [],
   "source": [
    "start = time()\n",
    "results_ogita = eigenpairtrack(\n",
    "    A_func,\n",
    "    dA_func,\n",
    "    (0.0, 1.0),\n",
    "    t_eval,\n",
    "    correction_method=\"ogita_aishima\",\n",
    ")\n",
    "elapsed_ogita = time() - start\n"
   ]
  },
  {
   "cell_type": "markdown",
   "id": "8ae5c781",
   "metadata": {
    "papermill": {
     "duration": 0.001984,
     "end_time": "2025-09-07T15:11:16.040215",
     "exception": false,
     "start_time": "2025-09-07T15:11:16.038231",
     "status": "completed"
    },
    "tags": []
   },
   "source": [
    "## Ogita-Aishima のみで追跡（ODE ソルバーなし）"
   ]
  },
  {
   "cell_type": "code",
   "execution_count": 6,
   "id": "748f28a6",
   "metadata": {
    "execution": {
     "iopub.execute_input": "2025-09-07T15:11:16.047092Z",
     "iopub.status.busy": "2025-09-07T15:11:16.046839Z",
     "iopub.status.idle": "2025-09-07T15:11:16.088926Z",
     "shell.execute_reply": "2025-09-07T15:11:16.087981Z"
    },
    "papermill": {
     "duration": 0.046365,
     "end_time": "2025-09-07T15:11:16.090497",
     "exception": false,
     "start_time": "2025-09-07T15:11:16.044132",
     "status": "completed"
    },
    "tags": []
   },
   "outputs": [],
   "source": [
    "start = time()\n",
    "\n",
    "def track_with_ogita_only(A_func, t_eval):\n",
    "    \"\"\"ODE ソルバーを使わずに荻田-青島法だけで固有対を追跡する。\"\"\"\n",
    "    Qs = []\n",
    "    Ds = []\n",
    "    t0 = t_eval[0]\n",
    "    A0 = A_func(t0)\n",
    "    eigvals0, Q0 = np.linalg.eigh(A0)\n",
    "    idx = np.argsort(eigvals0)\n",
    "    Q_prev = Q0[:, idx]\n",
    "    D_prev = np.diag(eigvals0[idx])\n",
    "    Qs.append(Q_prev)\n",
    "    Ds.append(D_prev)\n",
    "    for t in t_eval[1:]:\n",
    "        A_t = A_func(t)\n",
    "        Q_prev, D_prev = ogita_aishima_refinement(A_t, Q_prev)\n",
    "        Qs.append(Q_prev)\n",
    "        Ds.append(D_prev)\n",
    "    return Qs, Ds\n",
    "\n",
    "Qs_ogita_only, Ds_ogita_only = track_with_ogita_only(A_func, t_eval)\n",
    "elapsed_ogita_only = time() - start\n"
   ]
  },
  {
   "cell_type": "markdown",
   "id": "baa2ea2e",
   "metadata": {
    "papermill": {
     "duration": 0.00308,
     "end_time": "2025-09-07T15:11:16.097180",
     "exception": false,
     "start_time": "2025-09-07T15:11:16.094100",
     "status": "completed"
    },
    "tags": []
   },
   "source": [
    "## 誤差と計算時間の比較"
   ]
  },
  {
   "cell_type": "code",
   "execution_count": 7,
   "id": "524e65ad",
   "metadata": {
    "execution": {
     "iopub.execute_input": "2025-09-07T15:11:16.104610Z",
     "iopub.status.busy": "2025-09-07T15:11:16.104305Z",
     "iopub.status.idle": "2025-09-07T15:11:16.488984Z",
     "shell.execute_reply": "2025-09-07T15:11:16.488321Z"
    },
    "papermill": {
     "duration": 0.390151,
     "end_time": "2025-09-07T15:11:16.490422",
     "exception": false,
     "start_time": "2025-09-07T15:11:16.100271",
     "status": "completed"
    },
    "tags": []
   },
   "outputs": [
    {
     "name": "stdout",
     "output_type": "stream",
     "text": [
      "補正なし: 20.52s, 最終誤差 8.97e-11\n",
      "並び替えマッチング: 20.47s, 最終誤差 1.31e-13\n",
      "Ogita-Aishima: 22.42s, 最終誤差 5.54e-14\n",
      "Ogitaのみ: 0.04s, 最終誤差 2.51e+00\n"
     ]
    },
    {
     "name": "stderr",
     "output_type": "stream",
     "text": [
      "/root/.pyenv/versions/3.11.12/lib/python3.11/site-packages/IPython/core/pylabtools.py:152: UserWarning: Glyph 35036 (\\N{CJK UNIFIED IDEOGRAPH-88DC}) missing from font(s) DejaVu Sans.\n",
      "  fig.canvas.print_figure(bytes_io, **kw)\n",
      "/root/.pyenv/versions/3.11.12/lib/python3.11/site-packages/IPython/core/pylabtools.py:152: UserWarning: Glyph 27491 (\\N{CJK UNIFIED IDEOGRAPH-6B63}) missing from font(s) DejaVu Sans.\n",
      "  fig.canvas.print_figure(bytes_io, **kw)\n",
      "/root/.pyenv/versions/3.11.12/lib/python3.11/site-packages/IPython/core/pylabtools.py:152: UserWarning: Glyph 12394 (\\N{HIRAGANA LETTER NA}) missing from font(s) DejaVu Sans.\n",
      "  fig.canvas.print_figure(bytes_io, **kw)\n",
      "/root/.pyenv/versions/3.11.12/lib/python3.11/site-packages/IPython/core/pylabtools.py:152: UserWarning: Glyph 12375 (\\N{HIRAGANA LETTER SI}) missing from font(s) DejaVu Sans.\n",
      "  fig.canvas.print_figure(bytes_io, **kw)\n",
      "/root/.pyenv/versions/3.11.12/lib/python3.11/site-packages/IPython/core/pylabtools.py:152: UserWarning: Glyph 12510 (\\N{KATAKANA LETTER MA}) missing from font(s) DejaVu Sans.\n",
      "  fig.canvas.print_figure(bytes_io, **kw)\n",
      "/root/.pyenv/versions/3.11.12/lib/python3.11/site-packages/IPython/core/pylabtools.py:152: UserWarning: Glyph 12483 (\\N{KATAKANA LETTER SMALL TU}) missing from font(s) DejaVu Sans.\n",
      "  fig.canvas.print_figure(bytes_io, **kw)\n",
      "/root/.pyenv/versions/3.11.12/lib/python3.11/site-packages/IPython/core/pylabtools.py:152: UserWarning: Glyph 12481 (\\N{KATAKANA LETTER TI}) missing from font(s) DejaVu Sans.\n",
      "  fig.canvas.print_figure(bytes_io, **kw)\n",
      "/root/.pyenv/versions/3.11.12/lib/python3.11/site-packages/IPython/core/pylabtools.py:152: UserWarning: Glyph 12531 (\\N{KATAKANA LETTER N}) missing from font(s) DejaVu Sans.\n",
      "  fig.canvas.print_figure(bytes_io, **kw)\n",
      "/root/.pyenv/versions/3.11.12/lib/python3.11/site-packages/IPython/core/pylabtools.py:152: UserWarning: Glyph 12464 (\\N{KATAKANA LETTER GU}) missing from font(s) DejaVu Sans.\n",
      "  fig.canvas.print_figure(bytes_io, **kw)\n",
      "/root/.pyenv/versions/3.11.12/lib/python3.11/site-packages/IPython/core/pylabtools.py:152: UserWarning: Glyph 12398 (\\N{HIRAGANA LETTER NO}) missing from font(s) DejaVu Sans.\n",
      "  fig.canvas.print_figure(bytes_io, **kw)\n",
      "/root/.pyenv/versions/3.11.12/lib/python3.11/site-packages/IPython/core/pylabtools.py:152: UserWarning: Glyph 12415 (\\N{HIRAGANA LETTER MI}) missing from font(s) DejaVu Sans.\n",
      "  fig.canvas.print_figure(bytes_io, **kw)\n"
     ]
    },
    {
     "data": {
      "image/png": "[encoded data removed]",
      "text/plain": [
       "<Figure size 1000x600 with 1 Axes>"
      ]
     },
     "metadata": {},
     "output_type": "display_data"
    }
   ],
   "source": [
    "norm_errors_ogita_only = []\n",
    "for t, Q, D in zip(t_eval, Qs_ogita_only, Ds_ogita_only):\n",
    "    A_t = A_func(t)\n",
    "    norm_errors_ogita_only.append(np.linalg.norm(A_t - Q @ D @ Q.T, 'fro'))\n",
    "\n",
    "print(f\"補正なし: {elapsed_none:.2f}s, 最終誤差 {results_none.norm_errors[-1]:.2e}\")\n",
    "print(f\"並び替えマッチング: {elapsed_match:.2f}s, 最終誤差 {results_match.norm_errors[-1]:.2e}\")\n",
    "print(f\"Ogita-Aishima: {elapsed_ogita:.2f}s, 最終誤差 {results_ogita.norm_errors[-1]:.2e}\")\n",
    "print(f\"Ogitaのみ: {elapsed_ogita_only:.2f}s, 最終誤差 {norm_errors_ogita_only[-1]:.2e}\")\n",
    "\n",
    "plt.figure(figsize=(10,6))\n",
    "plt.plot(results_none.t_eval, results_none.norm_errors, label=\"補正なし\")\n",
    "plt.plot(results_match.t_eval, results_match.norm_errors, label=\"マッチング\")\n",
    "plt.plot(results_ogita.t_eval, results_ogita.norm_errors, label=\"Ogita-Aishima\")\n",
    "plt.plot(t_eval, norm_errors_ogita_only, label=\"Ogitaのみ\")\n",
    "plt.yscale(\"log\")\n",
    "plt.xlabel(\"t\")\n",
    "plt.ylabel(r\"$\\|A(t) - Q(t)D(t)Q(t)^T\\|_F$\")\n",
    "plt.legend()\n",
    "plt.show()\n"
   ]
  }
 ],
 "metadata": {
  "kernelspec": {
   "display_name": "Python 3",
   "language": "python",
   "name": "python3"
  },
  "language_info": {
   "codemirror_mode": {
    "name": "ipython",
    "version": 3
   },
   "file_extension": ".py",
   "mimetype": "text/x-python",
   "name": "python",
   "nbconvert_exporter": "python",
   "pygments_lexer": "ipython3",
   "version": "3.11.12"
  },
  "papermill": {
   "default_parameters": {},
   "duration": 66.565997,
   "end_time": "2025-09-07T15:11:16.813977",
   "environment_variables": {},
   "exception": null,
   "input_path": "notebooks/large_matrix_tracking_demo.ipynb",
   "output_path": "notebooks/large_matrix_tracking_demo.ipynb",
   "parameters": {},
   "start_time": "2025-09-07T15:10:10.247980",
   "version": "2.6.0"
  }
 },
 "nbformat": 4,
 "nbformat_minor": 5
}