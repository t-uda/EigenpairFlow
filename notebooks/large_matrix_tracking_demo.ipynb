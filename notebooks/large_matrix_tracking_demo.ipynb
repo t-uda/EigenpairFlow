{
 "cells": [
  {
   "cell_type": "markdown",
   "id": "6515577b",
   "metadata": {
    "papermill": {
     "duration": 0.004768,
     "end_time": "2025-09-08T12:33:02.850311",
     "exception": false,
     "start_time": "2025-09-08T12:33:02.845543",
     "status": "completed"
    },
    "tags": []
   },
   "source": [
    "# Eigenpair tracking demonstration on a high-dimensional matrix path\n",
    "\n",
    "This notebook tracks eigenpairs along a 20-dimensional matrix path and compares correction strategies."
   ]
  },
  {
   "cell_type": "code",
   "execution_count": 1,
   "id": "cf65d794",
   "metadata": {
    "execution": {
     "iopub.execute_input": "2025-09-08T12:33:02.859112Z",
     "iopub.status.busy": "2025-09-08T12:33:02.858664Z",
     "iopub.status.idle": "2025-09-08T12:33:04.791582Z",
     "shell.execute_reply": "2025-09-08T12:33:04.790072Z"
    },
    "papermill": {
     "duration": 1.939594,
     "end_time": "2025-09-08T12:33:04.793912",
     "exception": false,
     "start_time": "2025-09-08T12:33:02.854318",
     "status": "completed"
    },
    "tags": []
   },
   "outputs": [],
   "source": [
    "import numpy as np\n",
    "import matplotlib.pyplot as plt\n",
    "from time import time\n",
    "from eigenpairflow import eigenpairtrack\n",
    "from eigenpairflow.correction import ogita_aishima_refinement\n",
    "from eigenpairflow.ode import symmetric_ode_derivative\n"
   ]
  },
  {
   "cell_type": "markdown",
   "id": "ac1a0168",
   "metadata": {
    "papermill": {
     "duration": 0.003658,
     "end_time": "2025-09-08T12:33:04.801439",
     "exception": false,
     "start_time": "2025-09-08T12:33:04.797781",
     "status": "completed"
    },
    "tags": []
   },
   "source": [
    "## Problem setup\n",
    "\n",
    "Construct a matrix path $A(t)$ by linearly interpolating two random symmetric matrices $A_0$ and $A_1$."
   ]
  },
  {
   "cell_type": "code",
   "execution_count": 2,
   "id": "72e19265",
   "metadata": {
    "execution": {
     "iopub.execute_input": "2025-09-08T12:33:04.810320Z",
     "iopub.status.busy": "2025-09-08T12:33:04.809759Z",
     "iopub.status.idle": "2025-09-08T12:33:04.822104Z",
     "shell.execute_reply": "2025-09-08T12:33:04.820606Z"
    },
    "papermill": {
     "duration": 0.019985,
     "end_time": "2025-09-08T12:33:04.824718",
     "exception": false,
     "start_time": "2025-09-08T12:33:04.804733",
     "status": "completed"
    },
    "tags": []
   },
   "outputs": [],
   "source": [
    "n = 20\n",
    "np.random.seed(0)\n",
    "Q0, _ = np.linalg.qr(np.random.randn(n, n))\n",
    "Q1, _ = np.linalg.qr(np.random.randn(n, n))\n",
    "\n",
    "# flip eigenvalues to create crossings\n",
    "eigvals0 = np.linspace(1, n, n)\n",
    "eigvals1 = eigvals0[::-1]\n",
    "\n",
    "A0 = Q0 @ np.diag(eigvals0) @ Q0.T\n",
    "A1 = Q1 @ np.diag(eigvals1) @ Q1.T\n",
    "\n",
    "def A_func(t):\n",
    "    \"\"\"Return the interpolated symmetric matrix A(t).\"\"\"\n",
    "    return (1 - t) * A0 + t * A1\n",
    "\n",
    "def dA_func(t):\n",
    "    \"\"\"Return the derivative of A(t) with respect to t.\"\"\"\n",
    "    return A1 - A0\n",
    "\n",
    "t_eval = np.linspace(0, 1, 20)\n"
   ]
  },
  {
   "cell_type": "markdown",
   "id": "5293cf4d",
   "metadata": {
    "papermill": {
     "duration": 0.002986,
     "end_time": "2025-09-08T12:33:04.831954",
     "exception": false,
     "start_time": "2025-09-08T12:33:04.828968",
     "status": "completed"
    },
    "tags": []
   },
   "source": [
    "## Tracking with solve_ivp"
   ]
  },
  {
   "cell_type": "code",
   "execution_count": 3,
   "id": "3e602d19",
   "metadata": {
    "execution": {
     "iopub.execute_input": "2025-09-08T12:33:04.840155Z",
     "iopub.status.busy": "2025-09-08T12:33:04.839730Z",
     "iopub.status.idle": "2025-09-08T12:33:30.644906Z",
     "shell.execute_reply": "2025-09-08T12:33:30.643862Z"
    },
    "papermill": {
     "duration": 25.811605,
     "end_time": "2025-09-08T12:33:30.646573",
     "exception": false,
     "start_time": "2025-09-08T12:33:04.834968",
     "status": "completed"
    },
    "tags": []
   },
   "outputs": [],
   "source": [
    "start = time()\n",
    "results_none = eigenpairtrack(\n",
    "    A_func,\n",
    "    dA_func,\n",
    "    (0.0, 1.0),\n",
    "    t_eval,\n",
    "    correction_method=None,\n",
    ")\n",
    "elapsed_none = time() - start\n"
   ]
  },
  {
   "cell_type": "markdown",
   "id": "f05c58e8",
   "metadata": {
    "papermill": {
     "duration": 0.002847,
     "end_time": "2025-09-08T12:33:30.656124",
     "exception": false,
     "start_time": "2025-09-08T12:33:30.653277",
     "status": "completed"
    },
    "tags": []
   },
   "source": [
    "## Matching + solve_ivp correction"
   ]
  },
  {
   "cell_type": "code",
   "execution_count": 4,
   "id": "03fd4f1f",
   "metadata": {
    "execution": {
     "iopub.execute_input": "2025-09-08T12:33:30.668651Z",
     "iopub.status.busy": "2025-09-08T12:33:30.668259Z",
     "iopub.status.idle": "2025-09-08T12:33:55.498153Z",
     "shell.execute_reply": "2025-09-08T12:33:55.497092Z"
    },
    "papermill": {
     "duration": 24.837076,
     "end_time": "2025-09-08T12:33:55.500799",
     "exception": false,
     "start_time": "2025-09-08T12:33:30.663723",
     "status": "completed"
    },
    "tags": []
   },
   "outputs": [],
   "source": [
    "start = time()\n",
    "results_match = eigenpairtrack(\n",
    "    A_func,\n",
    "    dA_func,\n",
    "    (0.0, 1.0),\n",
    "    t_eval,\n",
    "    correction_method=\"matching\",\n",
    ")\n",
    "elapsed_match = time() - start\n"
   ]
  },
  {
   "cell_type": "markdown",
   "id": "d9701734",
   "metadata": {
    "papermill": {
     "duration": 0.002877,
     "end_time": "2025-09-08T12:33:55.506970",
     "exception": false,
     "start_time": "2025-09-08T12:33:55.504093",
     "status": "completed"
    },
    "tags": []
   },
   "source": [
    "## Ogita-Aishima + solve_ivp correction"
   ]
  },
  {
   "cell_type": "code",
   "execution_count": 5,
   "id": "5af53cde",
   "metadata": {
    "execution": {
     "iopub.execute_input": "2025-09-08T12:33:55.513899Z",
     "iopub.status.busy": "2025-09-08T12:33:55.513589Z",
     "iopub.status.idle": "2025-09-08T12:34:22.360960Z",
     "shell.execute_reply": "2025-09-08T12:34:22.359762Z"
    },
    "papermill": {
     "duration": 26.853339,
     "end_time": "2025-09-08T12:34:22.363144",
     "exception": false,
     "start_time": "2025-09-08T12:33:55.509805",
     "status": "completed"
    },
    "tags": []
   },
   "outputs": [],
   "source": [
    "start = time()\n",
    "results_ogita = eigenpairtrack(\n",
    "    A_func,\n",
    "    dA_func,\n",
    "    (0.0, 1.0),\n",
    "    t_eval,\n",
    "    correction_method=\"ogita_aishima\",\n",
    ")\n",
    "elapsed_ogita = time() - start\n"
   ]
  },
  {
   "cell_type": "code",
   "execution_count": 6,
   "id": "748f28a6",
   "metadata": {
    "execution": {
     "iopub.execute_input": "2025-09-08T12:34:22.372535Z",
     "iopub.status.busy": "2025-09-08T12:34:22.372155Z",
     "iopub.status.idle": "2025-09-08T12:34:22.523647Z",
     "shell.execute_reply": "2025-09-08T12:34:22.522022Z"
    },
    "papermill": {
     "duration": 0.15901,
     "end_time": "2025-09-08T12:34:22.526085",
     "exception": false,
     "start_time": "2025-09-08T12:34:22.367075",
     "status": "completed"
    },
    "tags": []
   },
   "outputs": [],
   "source": [
    "start = time()\n",
    "\n",
    "def track_with_ogita_only(A_func, dA_func, t_eval):\n",
    "    \"\"\"Track eigenpairs using only the Ogita-Aishima method with a forward Euler predictor.\"\"\"\n",
    "    Qs = []\n",
    "    Ds = []\n",
    "    t_prev = t_eval[0]\n",
    "    A_prev = A_func(t_prev)\n",
    "    eigvals0, Q0 = np.linalg.eigh(A_prev)\n",
    "    idx = np.argsort(eigvals0)\n",
    "    Q_prev = Q0[:, idx]\n",
    "    D_prev = np.diag(eigvals0[idx])\n",
    "    Qs.append(Q_prev)\n",
    "    Ds.append(D_prev)\n",
    "    n = A_prev.shape[0]\n",
    "    y_prev = np.concatenate([Q_prev.flatten(), np.diag(D_prev)])\n",
    "    for t in t_eval[1:]:\n",
    "        dt = t - t_prev\n",
    "        if np.all(np.isfinite(y_prev)):\n",
    "            try:\n",
    "                dydt = symmetric_ode_derivative(t_prev, y_prev, n, dA_func)\n",
    "                y_pred = y_prev + dt * dydt\n",
    "                Q_hat = y_pred[: n * n].reshape((n, n))\n",
    "            except Exception:\n",
    "                Q_hat = Q_prev\n",
    "        else:\n",
    "            Q_hat = Q_prev\n",
    "        if not np.all(np.isfinite(Q_hat)):\n",
    "            Q_hat = Q_prev\n",
    "        A_t = A_func(t)\n",
    "        Q_prev, D_prev = ogita_aishima_refinement(A_t, Q_hat)\n",
    "        Qs.append(Q_prev)\n",
    "        Ds.append(D_prev)\n",
    "        t_prev = t\n",
    "        y_prev = np.concatenate([Q_prev.flatten(), np.diag(D_prev)])\n",
    "    return Qs, Ds\n",
    "\n",
    "Qs_ogita_only, Ds_ogita_only = track_with_ogita_only(A_func, dA_func, t_eval)\n",
    "elapsed_ogita_only = time() - start\n"
   ]
  },
  {
   "cell_type": "markdown",
   "id": "baa2ea2e",
   "metadata": {
    "papermill": {
     "duration": 0.004622,
     "end_time": "2025-09-08T12:34:22.536258",
     "exception": false,
     "start_time": "2025-09-08T12:34:22.531636",
     "status": "completed"
    },
    "tags": []
   },
   "source": [
    "## Error and runtime comparison"
   ]
  },
  {
   "cell_type": "code",
   "execution_count": 7,
   "id": "524e65ad",
   "metadata": {
    "execution": {
     "iopub.execute_input": "2025-09-08T12:34:22.547183Z",
     "iopub.status.busy": "2025-09-08T12:34:22.546769Z",
     "iopub.status.idle": "2025-09-08T12:34:23.282363Z",
     "shell.execute_reply": "2025-09-08T12:34:23.280856Z"
    },
    "papermill": {
     "duration": 0.743402,
     "end_time": "2025-09-08T12:34:23.284263",
     "exception": false,
     "start_time": "2025-09-08T12:34:22.540861",
     "status": "completed"
    },
    "tags": []
   },
   "outputs": [
    {
     "name": "stdout",
     "output_type": "stream",
     "text": [
      "solve_ivp: 25.80s, L1 error 5.45e-11\n",
      "Matching + solve_ivp: 24.82s, L1 error 1.78e-13\n",
      "Ogita-Aishima + solve_ivp: 26.84s, L1 error 9.45e-14\n",
      "Ogita-Aishima + Euler: 0.12s, L1 error 1.16e-13\n"
     ]
    },
    {
     "data": {
      "image/png": "[encoded data removed]",
      "text/plain": [
       "<Figure size 1000x600 with 1 Axes>"
      ]
     },
     "metadata": {},
     "output_type": "display_data"
    }
   ],
   "source": [
    "norm_errors_ogita_only = []\n",
    "for t, Q, D in zip(t_eval, Qs_ogita_only, Ds_ogita_only):\n",
    "    A_t = A_func(t)\n",
    "    norm_errors_ogita_only.append(np.linalg.norm(A_t - Q @ D @ Q.T, 'fro'))\n",
    "\n",
    "err_none = np.trapz(results_none.norm_errors, results_none.t_eval)\n",
    "err_match = np.trapz(results_match.norm_errors, results_match.t_eval)\n",
    "err_ogita = np.trapz(results_ogita.norm_errors, results_ogita.t_eval)\n",
    "err_ogita_only = np.trapz(norm_errors_ogita_only, t_eval)\n",
    "\n",
    "print(f'solve_ivp: {elapsed_none:.2f}s, L1 error {err_none:.2e}')\n",
    "print(f'Matching + solve_ivp: {elapsed_match:.2f}s, L1 error {err_match:.2e}')\n",
    "print(f'Ogita-Aishima + solve_ivp: {elapsed_ogita:.2f}s, L1 error {err_ogita:.2e}')\n",
    "print(f'Ogita-Aishima + Euler: {elapsed_ogita_only:.2f}s, L1 error {err_ogita_only:.2e}')\n",
    "\n",
    "plt.figure(figsize=(10,6))\n",
    "plt.plot(results_none.t_eval, results_none.norm_errors, label='solve_ivp')\n",
    "plt.plot(results_match.t_eval, results_match.norm_errors, label='Matching + solve_ivp')\n",
    "plt.plot(results_ogita.t_eval, results_ogita.norm_errors, label='Ogita-Aishima + solve_ivp')\n",
    "plt.plot(t_eval, norm_errors_ogita_only, label='Ogita-Aishima + Euler')\n",
    "plt.yscale('log')\n",
    "plt.xlabel('t')\n",
    "plt.ylabel(r'$\\|A(t) - Q(t)D(t)Q(t)^T\\|_F$')\n",
    "plt.legend()\n",
    "plt.show()\n"
   ]
  }
 ],
 "metadata": {
  "kernelspec": {
   "display_name": "Python 3",
   "language": "python",
   "name": "python3"
  },
  "language_info": {
   "codemirror_mode": {
    "name": "ipython",
    "version": 3
   },
   "file_extension": ".py",
   "mimetype": "text/x-python",
   "name": "python",
   "nbconvert_exporter": "python",
   "pygments_lexer": "ipython3",
   "version": "3.11.12"
  },
  "papermill": {
   "default_parameters": {},
   "duration": 82.444726,
   "end_time": "2025-09-08T12:34:23.812186",
   "environment_variables": {},
   "exception": null,
   "input_path": "notebooks/large_matrix_tracking_demo.ipynb",
   "output_path": "notebooks/large_matrix_tracking_demo.ipynb",
   "parameters": {},
   "start_time": "2025-09-08T12:33:01.367460",
   "version": "2.6.0"
  }
 },
 "nbformat": 4,
 "nbformat_minor": 5
}